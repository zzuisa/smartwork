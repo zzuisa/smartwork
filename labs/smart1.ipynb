{
 "cells": [
  {
   "cell_type": "code",
   "execution_count": 1,
   "metadata": {},
   "outputs": [],
   "source": [
    "import os, time, glob\n",
    "import configparser\n",
    "import inspect\n",
    "import collections\n",
    "from functools import singledispatch\n",
    "import pandas as pd\n",
    "import openpyxl\n",
    "\n",
    "'''\n",
    "基于工作日志导出月底交付件报表V.1.0\n",
    "awx1192780\n",
    "2022/09/15\n",
    "\n",
    "conf.ini:\n",
    "[smartwork]\n",
    "base_folder = D:\\\\workspace\n",
    "report_folder = D:\\\\workspace\\\\交付件\n",
    "event = 【事件】\n",
    "troubleshooting = 【故障】\n",
    "pm = 【PM】\n",
    "alarm = 【告警】\n",
    "version_update = 【变更】\n",
    "version_update_meeting = 【变更评审】\n",
    "active_operation_maintain = 【主动运维】\n",
    "faq = 【FAQ】\n",
    "negative_event = 【负向事件】\n",
    "'''\n",
    "config = configparser.ConfigParser()\n",
    "config.read('./conf.ini',encoding='UTF-8')\n",
    "EVENT = str(config['smartwork'][\"event\"])\n",
    "TROUBLESHOOTING = str(config['smartwork'][\"troubleshooting\"])\n",
    "PM = str(config['smartwork'][\"pm\"])\n",
    "ALARM = str(config['smartwork'][\"alarm\"])\n",
    "VERSION_UPDATE = str(config['smartwork'][\"version_update\"])\n",
    "VERSION_UPDATE_MEETING = str(config['smartwork'][\"version_update_meeting\"])\n",
    "ACTIVE_OPERATION_MAINTAIN = str(config['smartwork'][\"active_operation_maintain\"])\n",
    "FAQ = str(config['smartwork'][\"faq\"])\n",
    "NEGATIVE_EVENT = str(config['smartwork'][\"negative_event\"])\n",
    "BASE_FOLDER = str(config['smartwork'][\"base_folder\"])\n",
    "REPORT_FOLDER = str(config['smartwork'][\"report_folder\"])\n",
    "keys_list = [EVENT,TROUBLESHOOTING,PM,ALARM,VERSION_UPDATE,VERSION_UPDATE_MEETING,ACTIVE_OPERATION_MAINTAIN,FAQ,NEGATIVE_EVENT]"
   ]
  },
  {
   "cell_type": "code",
   "execution_count": 2,
   "metadata": {},
   "outputs": [
    {
     "name": "stdout",
     "output_type": "stream",
     "text": [
      "defaultdict(<class 'int'>, {})\n"
     ]
    }
   ],
   "source": [
    "def retrieve_name(var):\n",
    "    return [var_name for var_name, var_val in inspect.currentframe().f_globals.items() if var_val == var]\n",
    "\n",
    "\n",
    "def copy_dict_from(source_dict: dict):\n",
    "    target_dict = collections.defaultdict(int)\n",
    "    if isinstance(source_dict, dict):\n",
    "        for i in source_dict.keys():\n",
    "            target_dict[i] = 0\n",
    "    return target_dict\n",
    "\n",
    "\n",
    "def do_count(smart_dict, path):\n",
    "    if '.txt' not in path:\n",
    "        return None\n",
    "    file = open(path, 'r', encoding='UTF-8')\n",
    "\n",
    "    def verify(keys_list, line):\n",
    "        for i in keys_list:\n",
    "            if retrieve_name(i)[0] not in smart_dict:\n",
    "                smart_dict[retrieve_name(i)[0]] = 0\n",
    "            if line.find(i) != -1:\n",
    "                return retrieve_name(i)[0]\n",
    "    for line in file:\n",
    "        # print(1)\n",
    "        res = verify(keys_list, line)\n",
    "        if res:\n",
    "            smart_dict[res] += 1\n",
    "    return smart_dict\n",
    "\n",
    "\n",
    "def to_excel(smart_dict):\n",
    "    try:\n",
    "        df = pd.DataFrame([smart_dict.values()], columns=[\n",
    "                          i.replace('【', '').replace('】', '') for i in keys_list])\n",
    "        df.to_excel('{}\\\\{}交付件.xlsx'.format(REPORT_FOLDER, current_year),\n",
    "                    sheet_name='{}月'.format(int(time.strftime('%m', time.localtime()))))\n",
    "    except:\n",
    "        print(\"导出失败，不存在目录或文件正在被使用。\")\n",
    "\n",
    "\n",
    "def traverse():\n",
    "    current_year_and_month = time.strftime(\"%Y%m\", time.localtime())\n",
    "    current_year = time.strftime(\"%Y\", time.localtime())\n",
    "    smart_dict = collections.defaultdict(int)\n",
    "    for dirname in os.listdir(BASE_FOLDER):\n",
    "        dirpath = '{}\\\\{}'.format(BASE_FOLDER, dirname)\n",
    "        if current_year_and_month in dirname and os.path.isdir(dirpath):\n",
    "            for report in os.listdir(dirpath):\n",
    "                if '.txt' in report:\n",
    "                    file_path = '{}\\\\{}'.format(\n",
    "                        dirpath, report).replace('\\\\', '\\\\\\\\')\n",
    "                    # print(file_path)\n",
    "                    smart_dict = do_count(smart_dict, file_path)\n"
   ]
  }
 ],
 "metadata": {
  "interpreter": {
   "hash": "4a5807fd4a36cde53a6ab9e26a33a9e436bcbfff72c670b420a200fc29a0c94a"
  },
  "kernelspec": {
   "display_name": "Python 3.8.8 64-bit ('base': conda)",
   "language": "python",
   "name": "python3"
  },
  "language_info": {
   "codemirror_mode": {
    "name": "ipython",
    "version": 3
   },
   "file_extension": ".py",
   "mimetype": "text/x-python",
   "name": "python",
   "nbconvert_exporter": "python",
   "pygments_lexer": "ipython3",
   "version": "3.8.8"
  },
  "orig_nbformat": 4
 },
 "nbformat": 4,
 "nbformat_minor": 2
}
