{
 "cells": [
  {
   "cell_type": "code",
   "execution_count": 2,
   "metadata": {},
   "outputs": [],
   "source": [
    "from openpyxl import Workbook,load_workbook\n",
    "from openpyxl.worksheet.table import Table, TableStyleInfo\n",
    "import os\n",
    "import copy\n",
    "import time\n",
    "\n"
   ]
  },
  {
   "cell_type": "code",
   "execution_count": 7,
   "metadata": {},
   "outputs": [],
   "source": [
    "# 批量插入数据\n",
    "# mode 0 横向 1 纵向\n",
    "   \n",
    "def batch_insert(ws,_list,pos=[1,1],mode=0):\n",
    "    row,column = 1,1\n",
    "    if isinstance(pos ,str) :\n",
    "        row,column  = [ord(str(pos[0:1]).upper())-65+1,int(pos[1:])]\n",
    "    if isinstance(pos, list):\n",
    "        row,column = pos\n",
    "    if mode == 0:\n",
    "        for index,value in enumerate(_list):\n",
    "            ws.cell(row=row,column=column+index,value=value)\n",
    "    else:\n",
    "        for index,value in enumerate(_list):\n",
    "            ws.cell(row=row+index,column=column,value=value)\n",
    "    return ws\n",
    "\n",
    "\n",
    "def open_file(excel_name_path):\n",
    "    return Workbook() if not os.path.isfile(excel_name_path) else load_workbook(str(excel_name_path))\n",
    "\n",
    "def open_or_add_sheet(workbook,sheet_name):\n",
    "    worksheet = workbook.active\n",
    "    if sheet_name in workbook.sheetnames:\n",
    "        worksheet = workbook[sheet_name]\n",
    "    else:\n",
    "        worksheet = workbook.create_sheet(sheet_name)\n",
    "    return worksheet\n",
    "    \n",
    "def data_excel(worksheet, title, data, excel_time):\n",
    "    check_date = excel_time\n",
    "    datain = copy.copy(data)  # 浅拷贝\n",
    "    _, values = zip(*datain.items())\n",
    "    value_normal = values\n",
    "    for index, value in enumerate(value_normal):\n",
    "        print(index,value)\n",
    "        worksheet = batch_insert(worksheet, value,[3+index,1])\n",
    "    b = workbook.save(excel_name_path)\n",
    "    workbook.close()\n",
    "    return worksheet"
   ]
  },
  {
   "cell_type": "markdown",
   "metadata": {},
   "source": []
  },
  {
   "cell_type": "code",
   "execution_count": 8,
   "metadata": {},
   "outputs": [],
   "source": [
    "data = {\n",
    "    'A':[1,2,3,4],\n",
    "    'B':[2,3,4,5]\n",
    "}\n",
    "f_path = './table.xlsx'\n",
    "excel_name_path = './202209交付件.xlsx'\n",
    "cur_month = time.strftime('%m',time.localtime())\n",
    "wb = open_file(excel_name_path)\n",
    "open_or_add_sheet(wb,cur_month)\n",
    "wb.save(excel_name_path)\n",
    "# cur_date = time.strftime('%y-%m-%d',time.localtime())\n",
    "# data_excel('title',data,cur_date)"
   ]
  },
  {
   "cell_type": "code",
   "execution_count": 46,
   "metadata": {},
   "outputs": [
    {
     "data": {
      "text/plain": [
       "'222'"
      ]
     },
     "execution_count": 46,
     "metadata": {},
     "output_type": "execute_result"
    }
   ],
   "source": [
    "import re\n",
    "from datetime import datetime\n",
    "\n",
    "_re = '.*工作日报(\\d+).txt'\n",
    "ss = \"file_path D:\\\\\\\\workspace\\\\20221005周三\\\\工作日报20221005.txt\"\n",
    "r = re.match(_re, ss)\n",
    "t = r.group(1)\n"
   ]
  },
  {
   "cell_type": "code",
   "execution_count": 181,
   "metadata": {},
   "outputs": [
    {
     "data": {
      "text/plain": [
       "False"
      ]
     },
     "execution_count": 181,
     "metadata": {},
     "output_type": "execute_result"
    }
   ],
   "source": [
    "s = \" 1.  【主动运维】论坛指标例行巡检\"\n",
    "ss =\"-      1. HIS-internet-sgp-consumer-external-consumer，并发连接21433>14000\"\n",
    "sss = \"研究新加坡云鉴权: 调用接口，需要在cookies中有J_SESSION_ID businessKey 两个字段。流程：\"\n",
    "a = re.sub('\\d{1,2}\\.', '', s).strip()==''\n",
    "a\n"
   ]
  },
  {
   "cell_type": "code",
   "execution_count": 190,
   "metadata": {},
   "outputs": [
    {
     "name": "stdout",
     "output_type": "stream",
     "text": [
      "3\n"
     ]
    }
   ],
   "source": [
    "\n",
    "file = open('D:\\\\\\\\workspace\\\\20220902周五 快速导出cce清单脚本,下午请假\\\\工作日报20220902.txt', 'r', encoding='UTF-8')\n",
    "for _i,i in enumerate(file):\n",
    "    print(_i,file.readlines())"
   ]
  },
  {
   "cell_type": "code",
   "execution_count": 109,
   "metadata": {},
   "outputs": [
    {
     "name": "stdout",
     "output_type": "stream",
     "text": [
      "2022/02/02\n",
      " 1.  【告警】查看新加坡华为云CBG-官网 elb的一处告警。\n"
     ]
    }
   ],
   "source": [
    "d = {}\n",
    "ss= '2022/02/02'\n",
    "d[ss] = [1,2,3,4]\n",
    "d[ss].append([44])\n",
    "d[s] = 11\n",
    "for _i,i in enumerate(d):\n",
    "    print(i)"
   ]
  },
  {
   "cell_type": "code",
   "execution_count": 150,
   "metadata": {},
   "outputs": [
    {
     "name": "stdout",
     "output_type": "stream",
     "text": [
      "['论坛指标例行巡检\\n', '论坛指标例行巡检\\n', '主动运维', '2022/10/04', 2, '', '']\n",
      "['德电生产的 scrm 的 mycat，查询数据量异常：\\n', '德电生产的 scrm 的 mycat，查询数据量异常：\\n', '主动运维', '2022/10/04', 2, '', '']\n",
      "['编写运维相关shell脚本，学习linux命令相关的知识，学习正则表达式。\\n', '编写运维相关shell脚本，学习linux命令相关的知识，学习正则表达式。\\n', '主动运维', '2022/10/04', 2, '- 检查德电mycat配置\\n- 初步认为/appHome/mycat/conf/server.xml 中的 memoryPageSize配置有问题，当前的配置值为64K，但应为1M (待确认)\\n', '']\n"
     ]
    }
   ],
   "source": [
    "a = {'论坛指标例行巡检\\n': ['论坛指标例行巡检\\n', '论坛指标例行巡检\\n', '主动运维', '2022/10/04', 2, '', ''], '德电生产的 scrm 的 mycat，查询数据 量异常：\\n': ['德电生产的 scrm 的 mycat，查询数据量异常：\\n', '德电生产的 scrm 的 mycat，查询数据量异常：\\n', '主动运维', '2022/10/04', 2, '', ''], '编写 运维相关shell脚本，学习linux命令相关的知识，学习正则表达式。\\n': ['编写运维相关shell脚本，学习linux命令相关的知识，学习正则表达式。\\n', '编写运维相关shell脚本，学习linux命令相关的知识，学习正则表达式。\\n', '主动运维', '2022/10/04', 2, '- 检查德电mycat配置\\n- 初步认为/appHome/mycat/conf/server.xml 中的 memoryPageSize配置有问题，当前的配置值为64K，但应为1M (待确认)\\n', '']}\n",
    "for i in a.values():\n",
    "    print(i)"
   ]
  },
  {
   "cell_type": "code",
   "execution_count": 145,
   "metadata": {},
   "outputs": [
    {
     "name": "stdout",
     "output_type": "stream",
     "text": [
      "['论坛指标例行巡检\\n', '主动运维', '2022/10/04', 2, '']\n",
      "['德电生产的 scrm 的 mycat，查询数据量异常：\\n', '主动运维', '2022/10/04', 2, '']\n",
      "['编写运维相关shell脚本，学习linux命令相关的知识，学习正则表达式。\\n', '主动运维', '2022/10/04', 2, '- 检查德电mycat配置\\n- 初步认为/appHome/mycat/conf/server.xml 中的memoryPageSize配置有问题，当前的配置值为64K，但应为1M (待确认)\\n']\n"
     ]
    }
   ],
   "source": [
    "d = {'论坛指标例行巡检\\n': ['主动运维', '2022/10/04', 2, ''], '德电生产的 scrm 的 mycat，查询数据量异常：\\n': ['主动运维', '2022/10/04', 2, ''], '编写运维相关shell脚本，学习linux命令相关的知识，学习正则表达式。\\n': ['主动运维', '2022/10/04', 2, '- 检查德电mycat配置\\n- 初步认为/appHome/mycat/conf/server.xml 中的memoryPageSize配置有问题，当前的配置值为64K，但应为1M (待确认)\\n']}\n",
    "for i,t in d.items():\n",
    "    t.insert(0,i)\n",
    "for i in d.values():\n",
    "    print(i)"
   ]
  },
  {
   "cell_type": "code",
   "execution_count": 131,
   "metadata": {},
   "outputs": [
    {
     "name": "stdout",
     "output_type": "stream",
     "text": [
      "- 检查德电mycat配置\n",
      "- 初步认为/appHome/mycat/conf/server.xml 中的 memoryPageSize配置有问题，当前的配置值为64K，但应为1M (待确认)\n",
      "\n"
     ]
    }
   ],
   "source": [
    "a =  ['- 检查德电mycat配置\\n',\n",
    "   '- 初步认为/appHome/mycat/conf/server.xml 中的 memoryPageSize配置有问题，当前的配置值为64K，但应为1M (待确认)\\n']\n",
    "b = ''.join(a)\n",
    "print('{}'.format(''.join(a)))"
   ]
  },
  {
   "cell_type": "code",
   "execution_count": 10,
   "metadata": {},
   "outputs": [
    {
     "name": "stdout",
     "output_type": "stream",
     "text": [
      "{'C': 11, 'Java': 22, 'Python': 33, 'a': 44}\n"
     ]
    }
   ],
   "source": [
    "x = {'C': 11, 'Java': 22}\n",
    "y = {'Python': 33, 'a': 44}\n",
    "x = {**x, **y}\n",
    "print(x)"
   ]
  },
  {
   "cell_type": "code",
   "execution_count": 34,
   "metadata": {},
   "outputs": [
    {
     "data": {
      "text/plain": [
       "[0, 1, 2, 3, 4, 5, 6, 7, 8, 9]"
      ]
     },
     "execution_count": 34,
     "metadata": {},
     "output_type": "execute_result"
    }
   ],
   "source": [
    "import re\n",
    "aa = '【主动运维】更新 新加坡机器升级清单(club,forum)\\n'\n",
    "re.sub('【.*】', '', aa)\n",
    "a = [1,2]\n",
    "b = []\n",
    "b.extend([[] for i in range(len(a))])\n",
    "[i for i in range(10)]"
   ]
  },
  {
   "cell_type": "code",
   "execution_count": 49,
   "metadata": {},
   "outputs": [
    {
     "data": {
      "text/plain": [
       "'A'"
      ]
     },
     "execution_count": 49,
     "metadata": {},
     "output_type": "execute_result"
    }
   ],
   "source": [
    "a = ['亚太9.9大促巡检：\\n', '主动运维', '2022/09/01', 2, '◊ 9 月 1 日亚太大促 IT 保障&监控巡检报告\\n◊ iforum、itrinity redis&mysql监控\\n◊ 修改《华为论坛新加坡架构图》一处错误。\\n']\n",
    "b = [1,2,3,4,5]\n",
    "''.join(map(str, a))\n",
    "chr(65)"
   ]
  },
  {
   "cell_type": "code",
   "execution_count": 174,
   "metadata": {},
   "outputs": [
    {
     "data": {
      "text/plain": [
       "'快速导出cce清单脚本'"
      ]
     },
     "execution_count": 174,
     "metadata": {},
     "output_type": "execute_result"
    }
   ],
   "source": [
    "s = '1. 【告adsad】查看新加坡华为云CBG-官网 elb的一处告警。'\n",
    "ss = '1. 【告adsad】快速导出cce清单脚本.'\n",
    "sss ='1.【主.运维】编写动化脚本'\n",
    "re.sub(r'\\d\\.?(.*】)?(.*\\w)[\\.:：。]?', r'\\2', ss)"
   ]
  },
  {
   "cell_type": "code",
   "execution_count": 50,
   "metadata": {},
   "outputs": [
    {
     "data": {
      "text/plain": [
       "'\"[{\\\\\"from\\\\\":1,\\\\\"price\\\\\":1324,\\\\\"priceFormat\\\\\":\\\\\"1,324\\\\\",\\\\\"to\\\\\":9999}]\"'"
      ]
     },
     "execution_count": 50,
     "metadata": {},
     "output_type": "execute_result"
    }
   ],
   "source": [
    "s = '\"[{\\\\\"from\\\\\":1,\\\\\"price\\\\\":1,324,\\\\\"priceFormat\\\\\":\\\\\"1,324\\\\\",\\\\\"to\\\\\":9999}]\"'\n",
    "re.sub(\"(:\\d+)(,)(\\d+)\",r'\\1\\3',s)\n"
   ]
  },
  {
   "cell_type": "code",
   "execution_count": 189,
   "metadata": {},
   "outputs": [
    {
     "data": {
      "text/plain": [
       "['变更', '', 'CBG Myhuawei', 'forum', 'op']"
      ]
     },
     "execution_count": 189,
     "metadata": {},
     "output_type": "execute_result"
    }
   ],
   "source": [
    "import re\n",
    "test = ' 1.  【变更】【BS:CBG Myhuawei[forum-op]】海外社区实施变更'\n",
    "test2 = ' - dafsdfdsf.sd f sdfsfsadf 【士大夫十分】阿斯弗安抚发放'\n",
    "a = re.sub(r'.*【(\\w*)-?(\\w*)】【BS[:：]?([\\w\\s?]*)\\[?(\\w*)-?(\\w*)\\]?】.*', r'\\1#\\2#\\3#\\4#\\5', test)\n",
    "# a.split('#')\n",
    "a.split('#')\n"
   ]
  },
  {
   "cell_type": "code",
   "execution_count": 187,
   "metadata": {},
   "outputs": [
    {
     "data": {
      "text/plain": [
       "[1, 2, 5, 3, 4]"
      ]
     },
     "execution_count": 187,
     "metadata": {},
     "output_type": "execute_result"
    }
   ],
   "source": [
    "a = [1,2,3,4]\n",
    "a.insert(2, 5)\n",
    "a"
   ]
  }
 ],
 "metadata": {
  "interpreter": {
   "hash": "4a5807fd4a36cde53a6ab9e26a33a9e436bcbfff72c670b420a200fc29a0c94a"
  },
  "kernelspec": {
   "display_name": "Python 3.8.8 64-bit ('base': conda)",
   "language": "python",
   "name": "python3"
  },
  "language_info": {
   "codemirror_mode": {
    "name": "ipython",
    "version": 3
   },
   "file_extension": ".py",
   "mimetype": "text/x-python",
   "name": "python",
   "nbconvert_exporter": "python",
   "pygments_lexer": "ipython3",
   "version": "3.8.8"
  },
  "orig_nbformat": 4
 },
 "nbformat": 4,
 "nbformat_minor": 2
}
