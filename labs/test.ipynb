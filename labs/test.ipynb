{
 "cells": [
  {
   "cell_type": "code",
   "execution_count": 2,
   "metadata": {},
   "outputs": [
    {
     "name": "stdout",
     "output_type": "stream",
     "text": [
      "LINE <re.Match object; span=(0, 2), match='1.'>\n"
     ]
    },
    {
     "data": {
      "text/plain": [
       "'20221019'"
      ]
     },
     "execution_count": 2,
     "metadata": {},
     "output_type": "execute_result"
    }
   ],
   "source": [
    "from openpyxl import Workbook,load_workbook\n",
    "from openpyxl.worksheet.table import Table, TableStyleInfo\n",
    "from datetime import datetime\n",
    "import os\n",
    "import copy\n",
    "import time\n",
    "import re\n",
    "s1 = ' 1. 【资源管理】【BS:CBG Myhuawei[服务化中台-op]】服务化中台巡检'\n",
    "print('LINE', re.match('\\s?\\d{1,2}\\.', s1.strip()))\n",
    "\n",
    "time.strftime('%Y%m%d',time.localtime())"
   ]
  },
  {
   "cell_type": "code",
   "execution_count": 5,
   "metadata": {},
   "outputs": [
    {
     "data": {
      "text/plain": [
       "'资源管理#123#SG#CBG Myhuawei#服务化中台#op#asfasfa'"
      ]
     },
     "execution_count": 5,
     "metadata": {},
     "output_type": "execute_result"
    }
   ],
   "source": [
    "line = ' 1. 【资源管理-123】【sg:CBG Myhuawei[服务化中台-op]】服务化中台巡检'\n",
    "re.sub(r'.*【([\\w、]*)-?(\\w*)】【(\\w{2})[:：]?([\\w\\s?]*)\\[?(\\w*)-?(\\w*)\\]?】(.*)', r'\\1#\\2#\\3#\\4#\\5#\\6#\\7', line).strip()\n",
    "# [\"外部单号\",\"业务系统\",\"应用模块\",\"问题发现时间\",\"问题处理时长\",\"状态\",\"问题分类\",\"问题描述\",\"根因分析\",\"国家\",\"责任人\",\"备注\",\"问题大类\"]\n",
    "#  问题分类 外部单号 国家 业务系统 应用模块 问题大类 问题描述"
   ]
  },
  {
   "cell_type": "code",
   "execution_count": 24,
   "metadata": {},
   "outputs": [
    {
     "name": "stdout",
     "output_type": "stream",
     "text": [
      "work in D:\\workspace\\20221018周二\n",
      "source_encoding GB2312\n",
      "   GB2312 D:\\workspace\\20221018周二\\工作日报20221018.txt\n",
      "finish total: 1 success: 1 unkown_cnt 0\n"
     ]
    }
   ],
   "source": [
    "# -*- encoding: utf-8 -*-\n",
    "'''\n",
    "@文件        :encoding_converter_tools.py\n",
    "@说明        :\n",
    "@时间        :2022/10/18 10:16:37\n",
    "@作者        :awx1192780\n",
    "@版本        :1.0\n",
    "'''\n",
    "\n",
    "import codecs\n",
    "import os\n",
    "import sys\n",
    "import shutil\n",
    "import re\n",
    "import chardet\n",
    "\n",
    "convertfiletypes = [\n",
    "    \".txt\",\n",
    "]\n",
    "\n",
    "\n",
    "def check_need_convert(filename):\n",
    "    for filetype in convertfiletypes:\n",
    "        if filename.lower().endswith(filetype):\n",
    "            return True\n",
    "    return False\n",
    "\n",
    "\n",
    "total_cnt = 0\n",
    "success_cnt = 0\n",
    "unkown_cnt = 0\n",
    "\n",
    "\n",
    "def convert_encoding_to_utf_8(filename):\n",
    "    global total_cnt, success_cnt, unkown_cnt\n",
    "    # Backup the origin file.\n",
    "    # convert file from the source encoding to target encoding\n",
    "    content = codecs.open(filename, 'rb').read()\n",
    "    source_encoding = chardet.detect(content)['encoding']\n",
    "    print('source_encoding',source_encoding)\n",
    "    total_cnt += 1\n",
    "    if source_encoding == None:\n",
    "        print(\"??\", filename)\n",
    "        unkown_cnt += 1\n",
    "        return\n",
    "    print(\"  \", source_encoding, filename)\n",
    "    if source_encoding != 'utf-8' and source_encoding != 'UTF-8-SIG':\n",
    "        # .encode(source_encoding)\n",
    "        content = content.decode(source_encoding, 'ignore')\n",
    "        codecs.open(filename, 'w', encoding='UTF-8-SIG').write(content)\n",
    "    success_cnt += 1\n",
    "\n",
    "\n",
    "def convert_dir(root_dir):\n",
    "    if os.path.exists(root_dir) == False:\n",
    "        print(\"[error] DIR:\", root_dir, \"do not exit\")\n",
    "        return\n",
    "    print(\"work in\", convertdir)\n",
    "    for root, dirs, files in os.walk(root_dir):\n",
    "        for f in files:\n",
    "            if check_need_convert(f):\n",
    "                filename = os.path.join(root, f)\n",
    "                try:\n",
    "                    convert_encoding_to_utf_8(filename)\n",
    "                except Exception as e:\n",
    "                    print(\"WA\", filename, e)\n",
    "    print(\"finish total:\", total_cnt, \"success:\",\n",
    "          success_cnt, \"unkown_cnt\", unkown_cnt)\n",
    "\n"
   ]
  },
  {
   "cell_type": "markdown",
   "metadata": {},
   "source": []
  }
 ],
 "metadata": {
  "interpreter": {
   "hash": "4a5807fd4a36cde53a6ab9e26a33a9e436bcbfff72c670b420a200fc29a0c94a"
  },
  "kernelspec": {
   "display_name": "Python 3.8.8 64-bit ('base': conda)",
   "language": "python",
   "name": "python3"
  },
  "language_info": {
   "codemirror_mode": {
    "name": "ipython",
    "version": 3
   },
   "file_extension": ".py",
   "mimetype": "text/x-python",
   "name": "python",
   "nbconvert_exporter": "python",
   "pygments_lexer": "ipython3",
   "version": "3.8.8"
  },
  "orig_nbformat": 4
 },
 "nbformat": 4,
 "nbformat_minor": 2
}
