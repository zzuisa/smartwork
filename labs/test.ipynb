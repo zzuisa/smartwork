{
 "cells": [
  {
   "cell_type": "code",
   "execution_count": 2,
   "metadata": {},
   "outputs": [],
   "source": [
    "from openpyxl import Workbook,load_workbook\n",
    "from openpyxl.worksheet.table import Table, TableStyleInfo\n",
    "import os\n",
    "import copy\n",
    "import time\n",
    "\n"
   ]
  },
  {
   "cell_type": "code",
   "execution_count": 7,
   "metadata": {},
   "outputs": [],
   "source": [
    "# 批量插入数据\n",
    "# mode 0 横向 1 纵向\n",
    "   \n",
    "def batch_insert(ws,_list,pos=[1,1],mode=0):\n",
    "    row,column = 1,1\n",
    "    if isinstance(pos ,str) :\n",
    "        row,column  = [ord(str(pos[0:1]).upper())-65+1,int(pos[1:])]\n",
    "    if isinstance(pos, list):\n",
    "        row,column = pos\n",
    "    if mode == 0:\n",
    "        for index,value in enumerate(_list):\n",
    "            ws.cell(row=row,column=column+index,value=value)\n",
    "    else:\n",
    "        for index,value in enumerate(_list):\n",
    "            ws.cell(row=row+index,column=column,value=value)\n",
    "    return ws\n",
    "\n",
    "\n",
    "def open_file(excel_name_path):\n",
    "    return Workbook() if not os.path.isfile(excel_name_path) else load_workbook(str(excel_name_path))\n",
    "\n",
    "def open_or_add_sheet(workbook,sheet_name):\n",
    "    worksheet = workbook.active\n",
    "    if sheet_name in workbook.sheetnames:\n",
    "        worksheet = workbook[sheet_name]\n",
    "    else:\n",
    "        worksheet = workbook.create_sheet(sheet_name)\n",
    "    return worksheet\n",
    "    \n",
    "def data_excel(worksheet, title, data, excel_time):\n",
    "    check_date = excel_time\n",
    "    datain = copy.copy(data)  # 浅拷贝\n",
    "    _, values = zip(*datain.items())\n",
    "    value_normal = values\n",
    "    for index, value in enumerate(value_normal):\n",
    "        print(index,value)\n",
    "        worksheet = batch_insert(worksheet, value,[3+index,1])\n",
    "    b = workbook.save(excel_name_path)\n",
    "    workbook.close()\n",
    "    return worksheet"
   ]
  },
  {
   "cell_type": "markdown",
   "metadata": {},
   "source": []
  },
  {
   "cell_type": "code",
   "execution_count": 8,
   "metadata": {},
   "outputs": [],
   "source": [
    "data = {\n",
    "    'A':[1,2,3,4],\n",
    "    'B':[2,3,4,5]\n",
    "}\n",
    "f_path = './table.xlsx'\n",
    "excel_name_path = './202209交付件.xlsx'\n",
    "cur_month = time.strftime('%m',time.localtime())\n",
    "wb = open_file(excel_name_path)\n",
    "open_or_add_sheet(wb,cur_month)\n",
    "wb.save(excel_name_path)\n",
    "# cur_date = time.strftime('%y-%m-%d',time.localtime())\n",
    "# data_excel('title',data,cur_date)"
   ]
  },
  {
   "cell_type": "code",
   "execution_count": 21,
   "metadata": {},
   "outputs": [],
   "source": [
    "import os\n",
    "\n",
    "    "
   ]
  }
 ],
 "metadata": {
  "interpreter": {
   "hash": "4a5807fd4a36cde53a6ab9e26a33a9e436bcbfff72c670b420a200fc29a0c94a"
  },
  "kernelspec": {
   "display_name": "Python 3.8.8 64-bit ('base': conda)",
   "language": "python",
   "name": "python3"
  },
  "language_info": {
   "codemirror_mode": {
    "name": "ipython",
    "version": 3
   },
   "file_extension": ".py",
   "mimetype": "text/x-python",
   "name": "python",
   "nbconvert_exporter": "python",
   "pygments_lexer": "ipython3",
   "version": "3.8.8"
  },
  "orig_nbformat": 4
 },
 "nbformat": 4,
 "nbformat_minor": 2
}
