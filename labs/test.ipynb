{
 "cells": [
  {
   "cell_type": "code",
   "execution_count": 7,
   "metadata": {},
   "outputs": [
    {
     "name": "stdout",
     "output_type": "stream",
     "text": [
      "LINE <re.Match object; span=(0, 2), match='1.'>\n"
     ]
    },
    {
     "data": {
      "text/plain": [
       "1668086891"
      ]
     },
     "execution_count": 7,
     "metadata": {},
     "output_type": "execute_result"
    }
   ],
   "source": [
    "from openpyxl import Workbook,load_workbook\n",
    "from openpyxl.worksheet.table import Table, TableStyleInfo\n",
    "from datetime import datetime\n",
    "import os\n",
    "import copy\n",
    "import time\n",
    "import re\n",
    "s1 = ' 1. 【资源管理】【BS:CBG Myhuawei[服务化中台-op]】服务化中台巡检'\n",
    "print('LINE', re.match('\\s?\\d{1,2}\\.', s1.strip()))\n",
    "\n",
    "time.strftime('%Y%m%d',time.localtime())\n",
    "int(time.time())\n"
   ]
  },
  {
   "cell_type": "code",
   "execution_count": 5,
   "metadata": {},
   "outputs": [
    {
     "data": {
      "text/plain": [
       "'资源管理#123#SG#CBG Myhuawei#服务化中台#op#asfasfa'"
      ]
     },
     "execution_count": 5,
     "metadata": {},
     "output_type": "execute_result"
    }
   ],
   "source": [
    "line = ' 1. 【资源管理-123】【sg:CBG Myhuawei[服务化中台-op]】服务化中台巡检'\n",
    "re.sub(r'.*【([\\w、]*)-?(\\w*)】【(\\w{2})[:：]?([\\w\\s?]*)\\[?(\\w*)-?(\\w*)\\]?】(.*)', r'\\1#\\2#\\3#\\4#\\5#\\6#\\7', line).strip()\n",
    "# [\"外部单号\",\"业务系统\",\"应用模块\",\"问题发现时间\",\"问题处理时长\",\"状态\",\"问题分类\",\"问题描述\",\"根因分析\",\"国家\",\"责任人\",\"备注\",\"问题大类\"]\n",
    "#  问题分类 外部单号 国家 业务系统 应用模块 问题大类 问题描述"
   ]
  },
  {
   "cell_type": "code",
   "execution_count": 24,
   "metadata": {},
   "outputs": [
    {
     "name": "stdout",
     "output_type": "stream",
     "text": [
      "work in D:\\workspace\\20221018周二\n",
      "source_encoding GB2312\n",
      "   GB2312 D:\\workspace\\20221018周二\\工作日报20221018.txt\n",
      "finish total: 1 success: 1 unkown_cnt 0\n"
     ]
    }
   ],
   "source": [
    "# -*- encoding: utf-8 -*-\n",
    "'''\n",
    "@文件        :encoding_converter_tools.py\n",
    "@说明        :\n",
    "@时间        :2022/10/18 10:16:37\n",
    "@作者        :awx1192780\n",
    "@版本        :1.0\n",
    "'''\n",
    "\n",
    "import codecs\n",
    "import os\n",
    "import sys\n",
    "import shutil\n",
    "import re\n",
    "import chardet\n",
    "\n",
    "convertfiletypes = [\n",
    "    \".txt\",\n",
    "]\n",
    "\n",
    "\n",
    "def check_need_convert(filename):\n",
    "    for filetype in convertfiletypes:\n",
    "        if filename.lower().endswith(filetype):\n",
    "            return True\n",
    "    return False\n",
    "\n",
    "\n",
    "total_cnt = 0\n",
    "success_cnt = 0\n",
    "unkown_cnt = 0\n",
    "\n",
    "\n",
    "def convert_encoding_to_utf_8(filename):\n",
    "    global total_cnt, success_cnt, unkown_cnt\n",
    "    # Backup the origin file.\n",
    "    # convert file from the source encoding to target encoding\n",
    "    content = codecs.open(filename, 'rb').read()\n",
    "    source_encoding = chardet.detect(content)['encoding']\n",
    "    print('source_encoding',source_encoding)\n",
    "    total_cnt += 1\n",
    "    if source_encoding == None:\n",
    "        print(\"??\", filename)\n",
    "        unkown_cnt += 1\n",
    "        return\n",
    "    print(\"  \", source_encoding, filename)\n",
    "    if source_encoding != 'utf-8' and source_encoding != 'UTF-8-SIG':\n",
    "        # .encode(source_encoding)\n",
    "        content = content.decode(source_encoding, 'ignore')\n",
    "        codecs.open(filename, 'w', encoding='UTF-8-SIG').write(content)\n",
    "    success_cnt += 1\n",
    "\n",
    "\n",
    "def convert_dir(root_dir):\n",
    "    if os.path.exists(root_dir) == False:\n",
    "        print(\"[error] DIR:\", root_dir, \"do not exit\")\n",
    "        return\n",
    "    print(\"work in\", convertdir)\n",
    "    for root, dirs, files in os.walk(root_dir):\n",
    "        for f in files:\n",
    "            if check_need_convert(f):\n",
    "                filename = os.path.join(root, f)\n",
    "                try:\n",
    "                    convert_encoding_to_utf_8(filename)\n",
    "                except Exception as e:\n",
    "                    print(\"WA\", filename, e)\n",
    "    print(\"finish total:\", total_cnt, \"success:\",\n",
    "          success_cnt, \"unkown_cnt\", unkown_cnt)\n",
    "\n"
   ]
  },
  {
   "cell_type": "code",
   "execution_count": null,
   "metadata": {},
   "outputs": [],
   "source": []
  },
  {
   "cell_type": "code",
   "execution_count": 8,
   "metadata": {},
   "outputs": [],
   "source": [
    "from uuid import UUID\n",
    "a = {UUID('cc4ea64c-6f22-11ed-926a-34298f71e5ac'): ['', 'CBG Myhuawei', '', '2022-11-02', 2, 'Closed', '资源管理', '自动化运维sg-auto程序更新', '修复上个版本的bug：print_pro 无法正常输出\\n修改配置文件结构：product_id 改为 product_ids 由str改为list类型，以及相关的处理逻辑。\\n原因：存在属于不同产品的资源需要导出同一张表\\n新增俄罗斯资源至资源列表：cce*3,cce2,mysql,redis,elb*2,nginx*2, es暂未配置\\n使用华为云api鉴权，成功获取x-Token，但仍然无法通过metrics资源接口鉴权，原因未知，暂时恢复手动输入cookies\\n经测试，成功输出巡检数据和文档。\\n未提交', '新加坡', '孙奥', 'https://codehub-g.huawei.com/aWX1192780/sg-auto/home', '操作类'], UUID('cc4f2573-6f22-11ed-a54a-34298f71e5ac'): ['', \n",
    "'CBG Myhuawei', '智能风控', '2022-11-02', 2, 'Closed', '灰度升级部署', '智能风控部署', '修改配置文件，之前开发给了错误的eureka密码，导致eureka找不到服务修改后解决\\n模块：management service', '俄罗斯', '孙奥', '相关开发 chenjianhua 30033435', '操作类'], UUID('cc4f6912-6f22-11ed-8b29-34298f71e5ac'): ['', 'CBG Myhuawei', 'eCommerce', '2022-11-02', 2, 'Closed', '告警、监控、巡检', '处理德电电商告警', '荷兰-支付回调接口过去16小时数量0，支付异常\\n根因分 析: 该时间段使用用户较少，属正常现象，误告。', '德电', '孙奥', '', '操作类'], UUID('cc4f6913-6f22-11ed-bd3a-34298f71e5ac'): ['', 'CBG Myhuawei', '', '2022-11-02', 2, 'Closed', '告警、监控、巡检', '例行巡检 - CBG官网、电商中台 、华为论坛', '输出巡检报告： sg-inspection-20221102.xlsx\\nru-inspection-20221102.xlsx', '新加坡、德电、俄罗斯', '孙奥', '无异常指标', '操作类'], UUID('cc523417-6f22-11ed-8da0-34298f71e5ac'): ['', 'CBG Myhuawei', '', '2022-11-03', 2, 'Closed', '资源管理', '自动化运维sg-auto程序更新', '经检查，俄罗斯的资源较新加坡更复杂(多租户、多es版本)\\n支持elasticsearch多租户，多版本\\n修改鉴权逻辑（不同版本的kibana/es 鉴权方式不同）', '新加坡', '孙奥', 'https://codehub-g.huawei.com/aWX1192780/sg-auto/home', '操作类'], UUID('cc528208-6f22-11ed-9050-34298f71e5ac'): ['', 'CBG Myhuawei', 'eCommerce', '2022-11-03', 2, 'Closed', '告警、监控、巡检', '处理德电电商告警', '根因分析:  vmall busi Error 历史遗留问题：locateSearch问题：\\n确定德国已上线该功能、且业务方做了正确的配置，仍然存在此问题，经检查，根据前端的接口调用逻辑，该接口会经常无法查到地址，但会报错，而不是返回空结果，且对用户无感知，故将此告警屏蔽。', '德电', '孙奥', '', '操作类'], UUID('cc52a913-6f22-11ed-8e53-34298f71e5ac'): ['', 'CBG Myhuawei', '智能风控', '2022-11-03', 2, 'Closed', '灰度升级部署', '智能风控部署', '应开发chenjianhua 要求，修改 service 配置文件，将redis的端 口号移除\\n拉通jiangtie等相关人员，讨论下一步问题解决方案：不同vpc之间连通问题', '俄罗斯', '孙奥', '相关开发 chenjianhua 30033435', '操作类'], UUID('cc52cff7-6f22-11ed-bc12-34298f71e5ac'): ['', 'CBG Myhuawei', '', '2022-11-03', 2, 'Closed', '告警、监控、巡检', '例行巡检 - CBG官网、电商中台、华为论坛', '输出巡检报告： ru-inspection-20221103.xlsx', '俄罗斯', '孙奥', '无异常指标', '操作类'], UUID('cc531dd3-6f22-11ed-8745-34298f71e5ac'): ['', 'CBG Myhuawei', 'Gaia', '2022-11-03', 2, 'Closed', '资源管理', '购买德电ECS 4台', '购买德电ECS4台、登录并修改hostname\\n制作主机镜像\\n遗留问题：德电euler 重启后hostname会失效', '德电', '孙奥', '相关开发 xiaoxing 00574753', '操作类'], UUID('cc552ccb-6f22-11ed-9907-34298f71e5ac'): ['', 'CBG Myhuawei', '服务化中台', '2022-11-04', 2, 'Closed', '资源管理', 'sg-auto 项目流程图', '输出文件：sgauto.eddx', '新加坡', '孙奥', '', '操作类'], UUID('cc5553d4-6f22-11ed-af36-34298f71e5ac'): ['', 'CBG Myhuawei', '服务化中台', '2022-11-04', 2, 'Closed', '资源管理', '自动巡检工具sg-auto简介', '简单介绍sg-auto当前项目进展，功能，程序逻辑等。\\n输出文件：自动巡检工具sg-auto简介.pptx', '新加坡', '孙奥', '', '操作类'], UUID('cc55a2cb-6f22-11ed-ad68-34298f71e5ac'): ['', 'CBG Myhuawei', '海外社区', '2022-11-04', 2, 'Closed', '咨询问题', '海外社区查数据', '配合开发和业务，解决一处生产问题，查询若干条sql语句。', '新加坡', '孙奥', '相关人员：qixianting 00617234 chenfeng WX1096033', '咨询类'], UUID('cc55c9fe-6f22-11ed-a217-34298f71e5ac'): ['', 'CBG Myhuawei', '', '2022-11-04', 2, 'Closed', '资源管理', 'sg-auto程序更新', '完成俄罗斯多租户、多kibana版本  鉴权\\nDSL filter优化，按照region分类', '新加坡', '孙奥', 'https://codehub-g.huawei.com/aWX1192780/sg-auto/home', '操作类'], UUID('cc55ef92-6f22-11ed-b10b-34298f71e5ac'): ['', 'CBG Myhuawei', '海外社区', '2022-11-04', 2, 'Closed', '告警、监控、巡检', '查看一处慢sql问题', '收到 wangjian WX1041533 博睿告警\\n登录页面的\\nsg#huawei_club(huawei_club)#PAGE#华为论坛 ph index页面#华为论坛ph页面_新加坡\\nc.h.cbg.mkt.huawei_club#CBG-MH-事务\\n根因：由于登录的慢sql导致，已经联系相关的开发zhaojianyang 跟进处理\\n输出巡检报告： sg-inspection-20221104.xlsx', '新加坡', '孙奥', '相关开发 zhaojianyang 30001833无异常指标', '操作类'], UUID('cc563d77-6f22-11ed-8551-34298f71e5ac'): ['', 'CBG Myhuawei', '', '2022-11-04', 2, 'Closed', '告警、监控、巡检', '例行巡检 - CBG官网、电商中台、华为论坛', '输出巡检报告： sg-inspection-20221104.xlsx', '新加坡', '孙奥', '无异常指标', '操作类'], UUID('cc599563-6f22-11ed-bc79-34298f71e5ac'): ['', 'CBG Myhuawei', '服务化中台', '2022-11-07', 2, 'Closed', '资源管理', '自动化运维 sg-auto 更新', '适配多版本ES(加入es 7.10.2)\\n整理用户文档、使用说明', '新加坡', '孙奥', '', '操作类'], UUID('cc59bc80-6f22-11ed-98a8-34298f71e5ac'): ['', 'CBG Myhuawei', 'eCommerce', '2022-11-07', 2, 'Closed', '告警、监控、巡检', '处理德电、俄罗斯电商告警', 'user_medal_list/1 大量510 等\\n根因分析，联系相关负责人zhaojianyang 30001833：510是自己系统抛出的code，可忽略。', '德电、俄罗斯', '孙奥', '', '操作类'], UUID('cc59cd7e-6f22-11ed-9e45-34298f71e5ac'): ['', 'CBG Myhuawei', '', '2022-11-07', 2, 'Closed', '告警、监控、巡检', '双11巡检 - CBG官网、电商中台、华为论坛', '输出巡检报告： sg-inspection-20221107.xlsx', '新加坡', '孙奥', '无异常指标', '操作类'], UUID('cc5cc7b7-6f22-11ed-a47a-34298f71e5ac'): ['', 'CBG Myhuawei', '服务化中台', '2022-11-08', 2, 'Closed', '资源管理', '自动化运维sg-auto 程序更新V23', '新增：支持多租户，即同一个模板中可同时存在属于多个租户下的资源\\n新增：支持(适配)多ES版本，目前可同时支持ES7.6.x、ES7.10.x\\n新增：华为云api鉴权(仅俄罗斯)(已实现，未适用)\\n新增：双11模板、基础模板调整\\n调整：ES的DSL语句的 通用模板，按照region、版本分类、解耦', '新加坡', '孙奥', 'https://codehub-g.huawei.com/aWX1192780/sg-auto/home', '操作类'], UUID('cc5d3c88-6f22-11ed-a741-34298f71e5ac'): ['', 'CBG Myhuawei', '海外社区', '2022-11-08', 2, 'Closed', '灰度升级部署', '海外社区升级', '新增配置项privacy-del-report.yml，挂载配置文件，更新配置文件：application.yml\\n拉镜像、升级镜像\\n灰度刷sql数据（仅新加坡）', '新加坡', '孙奥', 'maqingmu 30023921', '操作类'], UUID('cc5d8a7c-6f22-11ed-b7db-34298f71e5ac'): ['', 'CBG Myhuawei', '', '2022-11-08', 2, 'Closed', '告警、监控、巡检', '双11巡检 - CBG官网、电商中台、华为论坛', '输出巡检报告： sg-inspection-20221108.xlsx', '新加坡', '孙奥', '无异常指标', ' 操作类'], UUID('cc5f3711-6f22-11ed-8aa4-34298f71e5ac'): ['', 'CBG Myhuawei', '', '2022-11-09', 2, 'Closed', '资源管理', '自动化运维sg-auto更新', '德电区域适配成功\\n新增：德电巡检模板\\n使用全局变量控制cookie便于控制传入的参数，免去在配置文件中配置\\n已提交', '新加坡', '孙奥', 'https://codehub-g.huawei.com/aWX1192780/sg-auto/home', '操作类'], UUID('cc5f5dfe-6f22-11ed-b998-34298f71e5ac'): ['', 'CBG Myhuawei', 'eCommerce', '2022-11-09', 2, 'Closed', '灰度升级部署', '新加坡论坛', '接入智能风控，配合开发debug 查询sql，查日志等。', '新加坡', '孙奥', '相关开发：maqingmu 30023921 chenjianhua 30033435', '操作类'], UUID('cc5f84f3-6f22-11ed-9e49-34298f71e5ac'): ['', 'CBG Myhuawei', \n",
    "'', '2022-11-09', 2, 'Closed', '告警、监控、巡检', '德国电商直播保障 - CBG官网、电商中台、华为论坛', '输出巡检报告： de-inspection20224509174544.xlsx', '德电', '孙奥', '无异常指标', '操作类'], UUID('cc615874-6f22-11ed-9cd9-34298f71e5ac'): ['', 'CBG Myhuawei', '服务化中台', '2022-11-10', 2, 'Closed', '资源管理', '自动化运维sg-auto更新', '解决之前存在的俄罗斯区域的cce指标为-1的问题\\ncce 取数据接口更改，优化取值逻辑\\n可指定参数-d(daily) 巡检结果输出到工作目录', '新加坡', '孙奥', '', '操作类']}"
   ]
  },
  {
   "cell_type": "code",
   "execution_count": 18,
   "metadata": {},
   "outputs": [
    {
     "data": {
      "text/plain": [
       "{'俄罗斯', '德电', '德电、俄罗斯', '新加坡', '新加坡、德电、俄罗斯'}"
      ]
     },
     "execution_count": 18,
     "metadata": {},
     "output_type": "execute_result"
    }
   ],
   "source": [
    "COUNTRY_MAP = {\n",
    "    'BS' : '新加坡',\n",
    "    'SG' : '新加坡',\n",
    "    'RU' : '俄罗斯',\n",
    "    'DE' : '德电',\n",
    "    'ED' : '德电',\n",
    "    'DR' : '德电、俄罗斯',\n",
    "    'RD' : '德电、俄罗斯',\n",
    "    'SDR': '新加坡、德电、俄罗斯'\n",
    "}\n",
    "set(COUNTRY_MAP.values())"
   ]
  },
  {
   "cell_type": "code",
   "execution_count": 3,
   "metadata": {},
   "outputs": [],
   "source": [
    "import time\n",
    "import re \n",
    "a = '20221210'\n",
    "f1 = time.mktime(time.strptime('20221206','%Y%m%d'))\n",
    "f2 = time.mktime(time.strptime(a,'%Y%m%d'))\n",
    "re.match(r'^\\d+$', '12.2442')\n"
   ]
  },
  {
   "cell_type": "markdown",
   "metadata": {},
   "source": []
  }
 ],
 "metadata": {
  "interpreter": {
   "hash": "4a5807fd4a36cde53a6ab9e26a33a9e436bcbfff72c670b420a200fc29a0c94a"
  },
  "kernelspec": {
   "display_name": "Python 3.8.8 64-bit ('base': conda)",
   "language": "python",
   "name": "python3"
  },
  "language_info": {
   "codemirror_mode": {
    "name": "ipython",
    "version": 3
   },
   "file_extension": ".py",
   "mimetype": "text/x-python",
   "name": "python",
   "nbconvert_exporter": "python",
   "pygments_lexer": "ipython3",
   "version": "3.8.8"
  },
  "orig_nbformat": 4
 },
 "nbformat": 4,
 "nbformat_minor": 2
}
